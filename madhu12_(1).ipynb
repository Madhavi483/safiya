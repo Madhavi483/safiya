{
  "nbformat": 4,
  "nbformat_minor": 0,
  "metadata": {
    "colab": {
      "provenance": []
    },
    "kernelspec": {
      "name": "python3",
      "display_name": "Python 3"
    },
    "language_info": {
      "name": "python"
    }
  },
  "cells": [
    {
      "cell_type": "code",
      "execution_count": null,
      "metadata": {
        "colab": {
          "base_uri": "https://localhost:8080/"
        },
        "id": "-3sn60jwetXQ",
        "outputId": "a9854692-65e3-45d7-8f04-a3f18aa7df2c"
      },
      "outputs": [
        {
          "output_type": "execute_result",
          "data": {
            "text/plain": [
              "int"
            ]
          },
          "metadata": {},
          "execution_count": 1
        }
      ],
      "source": [
        "a1=100\n",
        "type(a1)"
      ]
    },
    {
      "cell_type": "code",
      "source": [
        "a1=10.0\n",
        "type(a1)"
      ],
      "metadata": {
        "colab": {
          "base_uri": "https://localhost:8080/"
        },
        "id": "flp30f9zly0V",
        "outputId": "cd88918a-015c-4edc-897a-9c4f6299e335"
      },
      "execution_count": null,
      "outputs": [
        {
          "output_type": "execute_result",
          "data": {
            "text/plain": [
              "float"
            ]
          },
          "metadata": {},
          "execution_count": 2
        }
      ]
    },
    {
      "cell_type": "code",
      "source": [
        "a1=\"madhu\"\n",
        "type(a1)"
      ],
      "metadata": {
        "colab": {
          "base_uri": "https://localhost:8080/"
        },
        "id": "kI-0rgZPl-HV",
        "outputId": "7d6802d5-4b87-418f-9545-55e548864f2b"
      },
      "execution_count": null,
      "outputs": [
        {
          "output_type": "execute_result",
          "data": {
            "text/plain": [
              "str"
            ]
          },
          "metadata": {},
          "execution_count": 3
        }
      ]
    },
    {
      "cell_type": "code",
      "source": [
        "a1=10+1j\n",
        "type(a1)"
      ],
      "metadata": {
        "colab": {
          "base_uri": "https://localhost:8080/"
        },
        "id": "nfAOUiOXmEzm",
        "outputId": "c5be5446-631c-4280-bad8-6d4df3cd9631"
      },
      "execution_count": null,
      "outputs": [
        {
          "output_type": "execute_result",
          "data": {
            "text/plain": [
              "complex"
            ]
          },
          "metadata": {},
          "execution_count": 4
        }
      ]
    },
    {
      "cell_type": "code",
      "source": [
        "a=10\n",
        "b=20"
      ],
      "metadata": {
        "id": "HEdehPGPm6fT"
      },
      "execution_count": null,
      "outputs": []
    },
    {
      "cell_type": "code",
      "source": [
        "#arthimatic operator +,-,*,/"
      ],
      "metadata": {
        "id": "_oxJ9qx6nEPH"
      },
      "execution_count": null,
      "outputs": []
    },
    {
      "cell_type": "code",
      "source": [
        "a+b"
      ],
      "metadata": {
        "colab": {
          "base_uri": "https://localhost:8080/"
        },
        "id": "GOQhunHXm9w8",
        "outputId": "0aa27a20-c07e-4419-804c-51f2a1844a48"
      },
      "execution_count": null,
      "outputs": [
        {
          "output_type": "execute_result",
          "data": {
            "text/plain": [
              "30"
            ]
          },
          "metadata": {},
          "execution_count": 6
        }
      ]
    },
    {
      "cell_type": "code",
      "source": [
        "a-b"
      ],
      "metadata": {
        "colab": {
          "base_uri": "https://localhost:8080/"
        },
        "id": "UCWz9jK4nTGD",
        "outputId": "6050b29b-0979-4654-c4d3-2ff6c1a21f25"
      },
      "execution_count": null,
      "outputs": [
        {
          "output_type": "execute_result",
          "data": {
            "text/plain": [
              "-10"
            ]
          },
          "metadata": {},
          "execution_count": 7
        }
      ]
    },
    {
      "cell_type": "code",
      "source": [
        "a*b"
      ],
      "metadata": {
        "colab": {
          "base_uri": "https://localhost:8080/"
        },
        "id": "3JFswaDqnVtl",
        "outputId": "7cac13c7-9b7e-4490-af8d-ffc44a9f7f0e"
      },
      "execution_count": null,
      "outputs": [
        {
          "output_type": "execute_result",
          "data": {
            "text/plain": [
              "200"
            ]
          },
          "metadata": {},
          "execution_count": 8
        }
      ]
    },
    {
      "cell_type": "code",
      "source": [
        "a/b"
      ],
      "metadata": {
        "colab": {
          "base_uri": "https://localhost:8080/"
        },
        "id": "eIIPz5NlnY0A",
        "outputId": "3e68f842-8fc8-4605-e3a3-a1cdf64bbc46"
      },
      "execution_count": null,
      "outputs": [
        {
          "output_type": "execute_result",
          "data": {
            "text/plain": [
              "0.5"
            ]
          },
          "metadata": {},
          "execution_count": 9
        }
      ]
    },
    {
      "cell_type": "code",
      "source": [
        "#relational operators"
      ],
      "metadata": {
        "id": "GvD6J18vnjZ3"
      },
      "execution_count": null,
      "outputs": []
    },
    {
      "cell_type": "code",
      "source": [
        "a=10\n",
        "b=20"
      ],
      "metadata": {
        "id": "gakkYEuhnmg1"
      },
      "execution_count": null,
      "outputs": []
    },
    {
      "cell_type": "code",
      "source": [
        "a>b"
      ],
      "metadata": {
        "colab": {
          "base_uri": "https://localhost:8080/"
        },
        "id": "f9vbtFvFnrHl",
        "outputId": "cb11b663-ae6b-45ea-9bdf-6ef5fc189368"
      },
      "execution_count": null,
      "outputs": [
        {
          "output_type": "execute_result",
          "data": {
            "text/plain": [
              "False"
            ]
          },
          "metadata": {},
          "execution_count": 11
        }
      ]
    },
    {
      "cell_type": "code",
      "source": [
        "a<b"
      ],
      "metadata": {
        "colab": {
          "base_uri": "https://localhost:8080/"
        },
        "id": "LwXlM8N6ntuz",
        "outputId": "b2da3860-0c31-424b-b07a-b8634d5dcd63"
      },
      "execution_count": null,
      "outputs": [
        {
          "output_type": "execute_result",
          "data": {
            "text/plain": [
              "True"
            ]
          },
          "metadata": {},
          "execution_count": 12
        }
      ]
    },
    {
      "cell_type": "code",
      "source": [
        "a==b"
      ],
      "metadata": {
        "colab": {
          "base_uri": "https://localhost:8080/"
        },
        "id": "CQdLMFR-nwhM",
        "outputId": "c4934a58-e6fe-4278-ffaa-f378d74a6e8f"
      },
      "execution_count": null,
      "outputs": [
        {
          "output_type": "execute_result",
          "data": {
            "text/plain": [
              "False"
            ]
          },
          "metadata": {},
          "execution_count": 13
        }
      ]
    },
    {
      "cell_type": "code",
      "source": [
        "a!=b"
      ],
      "metadata": {
        "colab": {
          "base_uri": "https://localhost:8080/"
        },
        "id": "4lnkcDQin2Gr",
        "outputId": "7c6cc63f-8faf-4313-fb73-7194d62b2d47"
      },
      "execution_count": null,
      "outputs": [
        {
          "output_type": "execute_result",
          "data": {
            "text/plain": [
              "True"
            ]
          },
          "metadata": {},
          "execution_count": 14
        }
      ]
    },
    {
      "cell_type": "code",
      "source": [
        "a=1\n",
        "b=1"
      ],
      "metadata": {
        "id": "Jpl9GSqOn4cb"
      },
      "execution_count": null,
      "outputs": []
    },
    {
      "cell_type": "code",
      "source": [
        "a==b"
      ],
      "metadata": {
        "colab": {
          "base_uri": "https://localhost:8080/"
        },
        "id": "heXM0a2Bn9PI",
        "outputId": "47b1c75d-2e40-49ea-8921-8b6ab159e316"
      },
      "execution_count": null,
      "outputs": [
        {
          "output_type": "execute_result",
          "data": {
            "text/plain": [
              "True"
            ]
          },
          "metadata": {},
          "execution_count": 16
        }
      ]
    },
    {
      "cell_type": "code",
      "source": [
        "#logical operator"
      ],
      "metadata": {
        "id": "ZC8870gRn_va"
      },
      "execution_count": null,
      "outputs": []
    },
    {
      "cell_type": "code",
      "source": [
        "a=True\n",
        "b=False"
      ],
      "metadata": {
        "id": "DFr6anbzoDC4"
      },
      "execution_count": null,
      "outputs": []
    },
    {
      "cell_type": "code",
      "source": [
        "a&b"
      ],
      "metadata": {
        "colab": {
          "base_uri": "https://localhost:8080/"
        },
        "id": "b_iiyLfRoUlh",
        "outputId": "583e4aa9-1fa2-424c-b295-d51f014c1386"
      },
      "execution_count": null,
      "outputs": [
        {
          "output_type": "execute_result",
          "data": {
            "text/plain": [
              "False"
            ]
          },
          "metadata": {},
          "execution_count": 20
        }
      ]
    },
    {
      "cell_type": "code",
      "source": [
        "b&a"
      ],
      "metadata": {
        "colab": {
          "base_uri": "https://localhost:8080/"
        },
        "id": "7HBwUBMIouRs",
        "outputId": "6625ead9-adb7-4b1a-f386-b2a78e773cb3"
      },
      "execution_count": null,
      "outputs": [
        {
          "output_type": "execute_result",
          "data": {
            "text/plain": [
              "False"
            ]
          },
          "metadata": {},
          "execution_count": 21
        }
      ]
    },
    {
      "cell_type": "code",
      "source": [
        "a&a"
      ],
      "metadata": {
        "colab": {
          "base_uri": "https://localhost:8080/"
        },
        "id": "bJFAbmRmoxjk",
        "outputId": "588a8e11-f394-46c3-938c-871e7fcbe927"
      },
      "execution_count": null,
      "outputs": [
        {
          "output_type": "execute_result",
          "data": {
            "text/plain": [
              "True"
            ]
          },
          "metadata": {},
          "execution_count": 22
        }
      ]
    },
    {
      "cell_type": "code",
      "source": [
        "b&b"
      ],
      "metadata": {
        "colab": {
          "base_uri": "https://localhost:8080/"
        },
        "id": "o3IdgCXKo0EQ",
        "outputId": "5b77f067-eb48-4454-ebc7-4d908faffed0"
      },
      "execution_count": null,
      "outputs": [
        {
          "output_type": "execute_result",
          "data": {
            "text/plain": [
              "False"
            ]
          },
          "metadata": {},
          "execution_count": 23
        }
      ]
    },
    {
      "cell_type": "code",
      "source": [
        "a|b,b|a,a|a,b|b"
      ],
      "metadata": {
        "colab": {
          "base_uri": "https://localhost:8080/"
        },
        "id": "IsqjG9Igo3lp",
        "outputId": "6702d450-891b-4893-a23c-1fde0774abd7"
      },
      "execution_count": null,
      "outputs": [
        {
          "output_type": "execute_result",
          "data": {
            "text/plain": [
              "(True, True, True, False)"
            ]
          },
          "metadata": {},
          "execution_count": 25
        }
      ]
    },
    {
      "cell_type": "code",
      "source": [
        "#identifiers"
      ],
      "metadata": {
        "id": "dkI4ZioNr0lU"
      },
      "execution_count": null,
      "outputs": []
    },
    {
      "cell_type": "code",
      "source": [
        "Name=\"abc\"\n",
        "name=\"abc\"\n",
        "name_12=\"abc\""
      ],
      "metadata": {
        "id": "GyK4jkH-r5Dj"
      },
      "execution_count": null,
      "outputs": []
    },
    {
      "cell_type": "code",
      "source": [
        "Name,name,name_12"
      ],
      "metadata": {
        "colab": {
          "base_uri": "https://localhost:8080/"
        },
        "id": "fWGPjv35sSks",
        "outputId": "5ee9ac59-c307-48c0-b4e0-5f7ec7e32513"
      },
      "execution_count": null,
      "outputs": [
        {
          "output_type": "execute_result",
          "data": {
            "text/plain": [
              "('abc', 'abc', 'abc')"
            ]
          },
          "metadata": {},
          "execution_count": 31
        }
      ]
    },
    {
      "cell_type": "code",
      "source": [
        "#literals"
      ],
      "metadata": {
        "id": "o4AGksLctMgr"
      },
      "execution_count": null,
      "outputs": []
    },
    {
      "cell_type": "code",
      "source": [
        "a1=100\n",
        "a2=\"abc\"\n",
        "a3=10.0\n",
        "a4=10+1j\n",
        "a1,a2,a3,a4\n"
      ],
      "metadata": {
        "colab": {
          "base_uri": "https://localhost:8080/"
        },
        "id": "bcxYx_dptHWT",
        "outputId": "1b26eda0-08ef-42c8-c739-71fdc7c75085"
      },
      "execution_count": null,
      "outputs": [
        {
          "output_type": "execute_result",
          "data": {
            "text/plain": [
              "(100, 'abc', 10.0, (10+1j))"
            ]
          },
          "metadata": {},
          "execution_count": 33
        }
      ]
    },
    {
      "cell_type": "code",
      "source": [
        "#string"
      ],
      "metadata": {
        "id": "cOMyAdJn6Lht"
      },
      "execution_count": null,
      "outputs": []
    },
    {
      "cell_type": "code",
      "source": [
        "s1=\"Hello world!\"\n",
        "s1\n",
        "type(s1)\n",
        "s2='hello world!'\n",
        "s2\n",
        "type(s2)"
      ],
      "metadata": {
        "colab": {
          "base_uri": "https://localhost:8080/"
        },
        "id": "cmhmNvsi6Qkq",
        "outputId": "b61d7de5-5b69-4e65-915e-959f2ca603de"
      },
      "execution_count": null,
      "outputs": [
        {
          "output_type": "execute_result",
          "data": {
            "text/plain": [
              "str"
            ]
          },
          "metadata": {},
          "execution_count": 35
        }
      ]
    },
    {
      "cell_type": "code",
      "source": [
        "my_string=\"This is Madhu\"\n",
        "my_string.upper()"
      ],
      "metadata": {
        "colab": {
          "base_uri": "https://localhost:8080/",
          "height": 36
        },
        "id": "mhoTIJhH6jQm",
        "outputId": "5100ba4c-dd05-415b-d903-a44446e6b865"
      },
      "execution_count": null,
      "outputs": [
        {
          "output_type": "execute_result",
          "data": {
            "text/plain": [
              "'THIS IS MADHU'"
            ],
            "application/vnd.google.colaboratory.intrinsic+json": {
              "type": "string"
            }
          },
          "metadata": {},
          "execution_count": 36
        }
      ]
    },
    {
      "cell_type": "code",
      "source": [
        "my_string=\"This is Madhu\"\n",
        "my_string.lower()"
      ],
      "metadata": {
        "colab": {
          "base_uri": "https://localhost:8080/",
          "height": 36
        },
        "id": "yUQJP-Bx60zE",
        "outputId": "e17e5fe8-8e75-4738-a1f1-2d90d0f07d20"
      },
      "execution_count": null,
      "outputs": [
        {
          "output_type": "execute_result",
          "data": {
            "text/plain": [
              "'this is madhu'"
            ],
            "application/vnd.google.colaboratory.intrinsic+json": {
              "type": "string"
            }
          },
          "metadata": {},
          "execution_count": 37
        }
      ]
    },
    {
      "cell_type": "code",
      "source": [
        "my_string=\"This is Madhu\"\n",
        "my_string.replace('M','j')"
      ],
      "metadata": {
        "colab": {
          "base_uri": "https://localhost:8080/",
          "height": 36
        },
        "id": "tKVB7ksq66p1",
        "outputId": "74a0d1f1-4933-4f6a-a9b5-2b7eceeb20de"
      },
      "execution_count": null,
      "outputs": [
        {
          "output_type": "execute_result",
          "data": {
            "text/plain": [
              "'This is jadhu'"
            ],
            "application/vnd.google.colaboratory.intrinsic+json": {
              "type": "string"
            }
          },
          "metadata": {},
          "execution_count": 39
        }
      ]
    },
    {
      "cell_type": "code",
      "source": [
        "my_string=\"This is Madhu\"\n",
        "my_string.find(\"Madhu\")"
      ],
      "metadata": {
        "colab": {
          "base_uri": "https://localhost:8080/"
        },
        "id": "-AHCboeb7IXx",
        "outputId": "912232ab-28c0-47dd-d087-994e6eb3147d"
      },
      "execution_count": null,
      "outputs": [
        {
          "output_type": "execute_result",
          "data": {
            "text/plain": [
              "8"
            ]
          },
          "metadata": {},
          "execution_count": 40
        }
      ]
    },
    {
      "cell_type": "code",
      "source": [
        "my_string=\"This is madhu,madhu school mates are janu, hansika\"\n",
        "my_string.count(\"madhu\")"
      ],
      "metadata": {
        "colab": {
          "base_uri": "https://localhost:8080/"
        },
        "id": "W_cg87T_7TLt",
        "outputId": "a27b461b-4aea-4f5e-f0d7-89df73560e83"
      },
      "execution_count": null,
      "outputs": [
        {
          "output_type": "execute_result",
          "data": {
            "text/plain": [
              "2"
            ]
          },
          "metadata": {},
          "execution_count": 41
        }
      ]
    },
    {
      "cell_type": "code",
      "source": [
        "my_string=\"This is apples,banana ,mangoes\"\n",
        "my_string.split(',')"
      ],
      "metadata": {
        "colab": {
          "base_uri": "https://localhost:8080/"
        },
        "id": "14lLJrlZ7roS",
        "outputId": "7570c689-d612-4702-84fc-fa86ab194dc6"
      },
      "execution_count": null,
      "outputs": [
        {
          "output_type": "execute_result",
          "data": {
            "text/plain": [
              "['This is apples', 'banana ', 'mangoes']"
            ]
          },
          "metadata": {},
          "execution_count": 43
        }
      ]
    },
    {
      "cell_type": "code",
      "source": [
        "tuple=\"a\",\"true\",\"b\",\"false\"\n",
        "tuple"
      ],
      "metadata": {
        "colab": {
          "base_uri": "https://localhost:8080/"
        },
        "id": "M0XVD90oAxhx",
        "outputId": "b8337f31-d247-4739-e0bc-9e10c8188a47"
      },
      "execution_count": null,
      "outputs": [
        {
          "output_type": "execute_result",
          "data": {
            "text/plain": [
              "('a', 'true', 'b', 'false')"
            ]
          },
          "metadata": {},
          "execution_count": 44
        }
      ]
    },
    {
      "cell_type": "code",
      "source": [
        "tuple[0]"
      ],
      "metadata": {
        "colab": {
          "base_uri": "https://localhost:8080/",
          "height": 36
        },
        "id": "avDJGzAmA_sD",
        "outputId": "6855122a-4bee-4bc7-dabc-9d8a4bfa772d"
      },
      "execution_count": null,
      "outputs": [
        {
          "output_type": "execute_result",
          "data": {
            "text/plain": [
              "'a'"
            ],
            "application/vnd.google.colaboratory.intrinsic+json": {
              "type": "string"
            }
          },
          "metadata": {},
          "execution_count": 46
        }
      ]
    },
    {
      "cell_type": "code",
      "source": [
        "tuple[2]"
      ],
      "metadata": {
        "colab": {
          "base_uri": "https://localhost:8080/",
          "height": 36
        },
        "id": "rd-OG1CVBXVY",
        "outputId": "4be3f0bc-6098-4273-b5fc-b6cf04504e8a"
      },
      "execution_count": null,
      "outputs": [
        {
          "output_type": "execute_result",
          "data": {
            "text/plain": [
              "'b'"
            ],
            "application/vnd.google.colaboratory.intrinsic+json": {
              "type": "string"
            }
          },
          "metadata": {},
          "execution_count": 47
        }
      ]
    },
    {
      "cell_type": "code",
      "source": [
        "tuple[3:9]"
      ],
      "metadata": {
        "colab": {
          "base_uri": "https://localhost:8080/"
        },
        "id": "2xw-mSFzBcFf",
        "outputId": "9774340f-c4e5-4935-cf3c-88b393a8fec1"
      },
      "execution_count": null,
      "outputs": [
        {
          "output_type": "execute_result",
          "data": {
            "text/plain": [
              "('false',)"
            ]
          },
          "metadata": {},
          "execution_count": 48
        }
      ]
    },
    {
      "cell_type": "code",
      "source": [
        "tuple =\"a,\",\"true\",\"b\",\"false\"\n",
        "len(tuple)"
      ],
      "metadata": {
        "colab": {
          "base_uri": "https://localhost:8080/"
        },
        "id": "iCmCx_j7CfUO",
        "outputId": "ba444a83-248c-4557-a908-b0686ce86381"
      },
      "execution_count": null,
      "outputs": [
        {
          "output_type": "execute_result",
          "data": {
            "text/plain": [
              "4"
            ]
          },
          "metadata": {},
          "execution_count": 50
        }
      ]
    },
    {
      "cell_type": "code",
      "source": [
        "tuple1 =\"a,\",\"true\",\"b\",\"false\"\n",
        "tuple2=\"madhu\",\"jaanu\",\"hansika\"\n",
        "tuple1+tuple2\n"
      ],
      "metadata": {
        "colab": {
          "base_uri": "https://localhost:8080/"
        },
        "id": "rLYJOgxLC_AI",
        "outputId": "7575253d-803f-4b32-c689-1a182813ff8b"
      },
      "execution_count": null,
      "outputs": [
        {
          "output_type": "execute_result",
          "data": {
            "text/plain": [
              "('a,', 'true', 'b', 'false', 'madhu', 'jaanu', 'hansika')"
            ]
          },
          "metadata": {},
          "execution_count": 53
        }
      ]
    },
    {
      "cell_type": "code",
      "source": [
        "tuple1 =\"a,\",\"true\",\"b\",\"false\"\n",
        "tuple2=\"madhu\",\"jaanu\",\"hansika\"\n",
        "tuple2+tuple1"
      ],
      "metadata": {
        "colab": {
          "base_uri": "https://localhost:8080/"
        },
        "id": "CXVBNTWJDav9",
        "outputId": "350bbd6e-a3d3-476e-f0a3-44bafdb81d2d"
      },
      "execution_count": null,
      "outputs": [
        {
          "output_type": "execute_result",
          "data": {
            "text/plain": [
              "('madhu', 'jaanu', 'hansika', 'a,', 'true', 'b', 'false')"
            ]
          },
          "metadata": {},
          "execution_count": 54
        }
      ]
    },
    {
      "cell_type": "code",
      "source": [
        "tuple1 =\"a,\",\"true\"\n",
        "tuple1*3"
      ],
      "metadata": {
        "colab": {
          "base_uri": "https://localhost:8080/"
        },
        "id": "59LqAJeJDrcK",
        "outputId": "71aa4c95-e623-4c10-f75a-281c472cf1f2"
      },
      "execution_count": null,
      "outputs": [
        {
          "output_type": "execute_result",
          "data": {
            "text/plain": [
              "('a,', 'true', 'a,', 'true', 'a,', 'true')"
            ]
          },
          "metadata": {},
          "execution_count": 57
        }
      ]
    },
    {
      "cell_type": "code",
      "source": [
        "tuple1 =\"a,\",\"true\"\n",
        "tuple2=\"b\",\"false\"\n",
        "tuple1*3+tuple2"
      ],
      "metadata": {
        "colab": {
          "base_uri": "https://localhost:8080/"
        },
        "id": "WsF7WriYECY-",
        "outputId": "f09b6f6a-6e66-455a-c51e-c3c3cb90be82"
      },
      "execution_count": null,
      "outputs": [
        {
          "output_type": "execute_result",
          "data": {
            "text/plain": [
              "('a,', 'true', 'a,', 'true', 'a,', 'true', 'b', 'false')"
            ]
          },
          "metadata": {},
          "execution_count": 58
        }
      ]
    },
    {
      "cell_type": "code",
      "source": [
        "tuple1=34,45,67,23,89\n",
        "min(tuple1)"
      ],
      "metadata": {
        "colab": {
          "base_uri": "https://localhost:8080/"
        },
        "id": "PWDq6233E3FR",
        "outputId": "864b03f1-5791-44b6-ba72-38a35091abc8"
      },
      "execution_count": null,
      "outputs": [
        {
          "output_type": "execute_result",
          "data": {
            "text/plain": [
              "23"
            ]
          },
          "metadata": {},
          "execution_count": 60
        }
      ]
    },
    {
      "cell_type": "code",
      "source": [
        "tuple1=34,45,67,23,89\n",
        "max(tuple1)"
      ],
      "metadata": {
        "colab": {
          "base_uri": "https://localhost:8080/"
        },
        "id": "1Bl5s8FGFGZT",
        "outputId": "f7dbdd0f-e9a4-49ec-e58a-757cd94b0a68"
      },
      "execution_count": null,
      "outputs": [
        {
          "output_type": "execute_result",
          "data": {
            "text/plain": [
              "89"
            ]
          },
          "metadata": {},
          "execution_count": 61
        }
      ]
    },
    {
      "cell_type": "code",
      "source": [
        "#list"
      ],
      "metadata": {
        "id": "817Ux9CRIGhJ"
      },
      "execution_count": null,
      "outputs": []
    },
    {
      "cell_type": "code",
      "source": [
        "list=[1,'a',2,'b',3,'c']\n",
        "list"
      ],
      "metadata": {
        "colab": {
          "base_uri": "https://localhost:8080/"
        },
        "id": "PWBnEVzuIJoE",
        "outputId": "7d3ad48f-af9d-48be-ea9e-548bfd1e1016"
      },
      "execution_count": null,
      "outputs": [
        {
          "output_type": "execute_result",
          "data": {
            "text/plain": [
              "[1, 'a', 2, 'b', 3, 'c']"
            ]
          },
          "metadata": {},
          "execution_count": 62
        }
      ]
    },
    {
      "cell_type": "code",
      "source": [
        "list=[1,'a',2,'b',3,'c']\n",
        "type(list)"
      ],
      "metadata": {
        "colab": {
          "base_uri": "https://localhost:8080/"
        },
        "id": "i-jN5wk3IerI",
        "outputId": "2a57c69b-4837-4c5d-99af-63e55da43624"
      },
      "execution_count": null,
      "outputs": [
        {
          "output_type": "execute_result",
          "data": {
            "text/plain": [
              "list"
            ]
          },
          "metadata": {},
          "execution_count": 63
        }
      ]
    },
    {
      "cell_type": "code",
      "source": [
        "list=[1,'a',2,'b',3,'c']\n",
        "list[1]"
      ],
      "metadata": {
        "colab": {
          "base_uri": "https://localhost:8080/",
          "height": 36
        },
        "id": "IRlV3fK2InKZ",
        "outputId": "4833dcae-d247-4114-864e-6997e26a0cf1"
      },
      "execution_count": null,
      "outputs": [
        {
          "output_type": "execute_result",
          "data": {
            "text/plain": [
              "'a'"
            ],
            "application/vnd.google.colaboratory.intrinsic+json": {
              "type": "string"
            }
          },
          "metadata": {},
          "execution_count": 64
        }
      ]
    },
    {
      "cell_type": "code",
      "source": [
        "list=[1,'a',2,'b',3,'c']\n",
        "list[1]=\"madhu\"\n",
        "list"
      ],
      "metadata": {
        "colab": {
          "base_uri": "https://localhost:8080/"
        },
        "id": "4seIdyWiIr9Y",
        "outputId": "2b8c31aa-a8ab-4495-f410-02980f4224d0"
      },
      "execution_count": null,
      "outputs": [
        {
          "output_type": "execute_result",
          "data": {
            "text/plain": [
              "[1, 'madhu', 2, 'b', 3, 'c']"
            ]
          },
          "metadata": {},
          "execution_count": 67
        }
      ]
    },
    {
      "cell_type": "code",
      "source": [
        "list=[1,'a',2,'b',3,'c']\n",
        "list.reverse()\n",
        "list"
      ],
      "metadata": {
        "colab": {
          "base_uri": "https://localhost:8080/"
        },
        "id": "2fSlxLyvI2GK",
        "outputId": "4a9178c5-01a1-4b11-ff52-51e99add4bf2"
      },
      "execution_count": null,
      "outputs": [
        {
          "output_type": "execute_result",
          "data": {
            "text/plain": [
              "['c', 3, 'b', 2, 'a', 1]"
            ]
          },
          "metadata": {},
          "execution_count": 68
        }
      ]
    },
    {
      "cell_type": "code",
      "source": [
        "list=[1,'a',2,'b',3,'c']\n",
        "list.append(\"hansika\")\n",
        "list"
      ],
      "metadata": {
        "colab": {
          "base_uri": "https://localhost:8080/"
        },
        "id": "RWWB_3qWI9Qy",
        "outputId": "d7a3f9b0-bca1-4c94-da98-a99fd5322328"
      },
      "execution_count": null,
      "outputs": [
        {
          "output_type": "execute_result",
          "data": {
            "text/plain": [
              "[1, 'a', 2, 'b', 3, 'c', 'hansika']"
            ]
          },
          "metadata": {},
          "execution_count": 70
        }
      ]
    },
    {
      "cell_type": "code",
      "source": [
        "list=[1,'a',2,'b',3,'c']\n",
        "list.pop()\n",
        "list"
      ],
      "metadata": {
        "colab": {
          "base_uri": "https://localhost:8080/"
        },
        "id": "jSu_PfZAJHn3",
        "outputId": "83cc6223-9d23-4977-dc98-ae3f81fe8665"
      },
      "execution_count": null,
      "outputs": [
        {
          "output_type": "execute_result",
          "data": {
            "text/plain": [
              "[1, 'a', 2, 'b', 3]"
            ]
          },
          "metadata": {},
          "execution_count": 71
        }
      ]
    },
    {
      "cell_type": "code",
      "source": [
        "list=[1,'a',2,'b',3,'c']\n",
        "list.insert(2,'jaanu')\n",
        "list"
      ],
      "metadata": {
        "colab": {
          "base_uri": "https://localhost:8080/"
        },
        "id": "UIX3akWkJMbn",
        "outputId": "f4fc36fc-5d85-4ae2-d48c-39c0ee55a511"
      },
      "execution_count": null,
      "outputs": [
        {
          "output_type": "execute_result",
          "data": {
            "text/plain": [
              "[1, 'a', 'jaanu', 2, 'b', 3, 'c']"
            ]
          },
          "metadata": {},
          "execution_count": 73
        }
      ]
    },
    {
      "cell_type": "code",
      "source": [
        "list=['j','a','l','b','k','c']\n",
        "list.sort()\n",
        "list"
      ],
      "metadata": {
        "colab": {
          "base_uri": "https://localhost:8080/"
        },
        "id": "LEYRJsUQJhxU",
        "outputId": "c857bcb5-f7fa-49bd-bd2e-21231b123d0d"
      },
      "execution_count": null,
      "outputs": [
        {
          "output_type": "execute_result",
          "data": {
            "text/plain": [
              "['a', 'b', 'c', 'j', 'k', 'l']"
            ]
          },
          "metadata": {},
          "execution_count": 75
        }
      ]
    },
    {
      "cell_type": "code",
      "source": [
        "list1=[1,'a',2,'b',3,'c']\n",
        "list2=['ma','la','ha','ka','da']\n",
        "list1+list2"
      ],
      "metadata": {
        "colab": {
          "base_uri": "https://localhost:8080/"
        },
        "id": "wOCsliKgJ0IM",
        "outputId": "d1620456-8178-4fe7-9bf7-226e9dd652f0"
      },
      "execution_count": null,
      "outputs": [
        {
          "output_type": "execute_result",
          "data": {
            "text/plain": [
              "[1, 'a', 2, 'b', 3, 'c', 'ma', 'la', 'ha', 'ka', 'da']"
            ]
          },
          "metadata": {},
          "execution_count": 77
        }
      ]
    },
    {
      "cell_type": "code",
      "source": [
        "list1=['a','b','c']\n",
        "list2=['d','e']\n",
        "list1*3+list2"
      ],
      "metadata": {
        "colab": {
          "base_uri": "https://localhost:8080/"
        },
        "id": "GLhS91Z-KTyS",
        "outputId": "189c0773-2a03-4234-fc85-14607c17ccfc"
      },
      "execution_count": null,
      "outputs": [
        {
          "output_type": "execute_result",
          "data": {
            "text/plain": [
              "['a', 'b', 'c', 'a', 'b', 'c', 'a', 'b', 'c', 'd', 'e']"
            ]
          },
          "metadata": {},
          "execution_count": 79
        }
      ]
    },
    {
      "cell_type": "code",
      "source": [
        "s1={1,\"madhu\",\"madhu\",1}\n",
        "s1"
      ],
      "metadata": {
        "colab": {
          "base_uri": "https://localhost:8080/"
        },
        "id": "W6IRqGZ0V-IM",
        "outputId": "7e5a8ebc-ed11-4e5c-d451-c1eb763c6dcd"
      },
      "execution_count": null,
      "outputs": [
        {
          "output_type": "execute_result",
          "data": {
            "text/plain": [
              "{1, 'madhu'}"
            ]
          },
          "metadata": {},
          "execution_count": 1
        }
      ]
    },
    {
      "cell_type": "code",
      "source": [
        "#set operations"
      ],
      "metadata": {
        "id": "MOdekwcEWqD4"
      },
      "execution_count": null,
      "outputs": []
    },
    {
      "cell_type": "code",
      "source": [
        "s1={1,\"a\",True,2,\"b\",False}\n",
        "s1"
      ],
      "metadata": {
        "colab": {
          "base_uri": "https://localhost:8080/"
        },
        "id": "pe2O_9FtWwAI",
        "outputId": "82624578-f5bd-435b-daa6-15bd4393a20a"
      },
      "execution_count": null,
      "outputs": [
        {
          "output_type": "execute_result",
          "data": {
            "text/plain": [
              "{1, 2, False, 'a', 'b'}"
            ]
          },
          "metadata": {},
          "execution_count": 6
        }
      ]
    },
    {
      "cell_type": "code",
      "source": [
        "s1={1,\"a\",True,2,\"b\",False,0}\n",
        "s1.remove(\"b\")\n",
        "s1"
      ],
      "metadata": {
        "colab": {
          "base_uri": "https://localhost:8080/"
        },
        "id": "9Vk5DFSCXKAd",
        "outputId": "e84929ad-4498-4953-dd00-8c6a0c0e22fa"
      },
      "execution_count": null,
      "outputs": [
        {
          "output_type": "execute_result",
          "data": {
            "text/plain": [
              "{1, 2, False, 'a'}"
            ]
          },
          "metadata": {},
          "execution_count": 7
        }
      ]
    },
    {
      "cell_type": "code",
      "source": [
        "s1={1,\"a\",True,2,\"b\",False}\n",
        "s1.update([10,20,30])\n",
        "s1"
      ],
      "metadata": {
        "colab": {
          "base_uri": "https://localhost:8080/"
        },
        "id": "zl1Iair-XS4G",
        "outputId": "c118d2b5-3035-4a25-9fde-a712efcfdb01"
      },
      "execution_count": null,
      "outputs": [
        {
          "output_type": "execute_result",
          "data": {
            "text/plain": [
              "{1, 10, 2, 20, 30, False, 'a', 'b'}"
            ]
          },
          "metadata": {},
          "execution_count": 4
        }
      ]
    },
    {
      "cell_type": "code",
      "source": [
        "s1={1,2,3}\n",
        "s2={\"a\",\"b\",\"c\"}\n",
        "s1.union(s2)"
      ],
      "metadata": {
        "colab": {
          "base_uri": "https://localhost:8080/"
        },
        "id": "HkapV0vpbrV2",
        "outputId": "1c23b60e-7142-406c-c22d-81f6c3c58110"
      },
      "execution_count": null,
      "outputs": [
        {
          "output_type": "execute_result",
          "data": {
            "text/plain": [
              "{1, 2, 3, 'a', 'b', 'c'}"
            ]
          },
          "metadata": {},
          "execution_count": 8
        }
      ]
    },
    {
      "cell_type": "code",
      "source": [
        "s1={1,2,3,4,5}\n",
        "s2={4,5}\n",
        "s1.intersection(s2)"
      ],
      "metadata": {
        "colab": {
          "base_uri": "https://localhost:8080/"
        },
        "id": "5qN4xw3eb3WF",
        "outputId": "2c552bdb-1aa8-4ffa-d1ee-5d32766bd3e1"
      },
      "execution_count": null,
      "outputs": [
        {
          "output_type": "execute_result",
          "data": {
            "text/plain": [
              "{4, 5}"
            ]
          },
          "metadata": {},
          "execution_count": 9
        }
      ]
    },
    {
      "cell_type": "code",
      "source": [
        "#if"
      ],
      "metadata": {
        "id": "DjF63vNvchz5"
      },
      "execution_count": null,
      "outputs": []
    },
    {
      "cell_type": "code",
      "source": [
        "a=10\n",
        "b=20\n",
        "if a>b:\n",
        "    print(\"a is greater than b\")\n",
        "if b>a:\n",
        "    print(\"b is greater than a\")\n",
        "\n"
      ],
      "metadata": {
        "colab": {
          "base_uri": "https://localhost:8080/"
        },
        "id": "5RM07TgNckai",
        "outputId": "59475727-8edf-4e54-cc1a-1d2307339a3f"
      },
      "execution_count": null,
      "outputs": [
        {
          "output_type": "stream",
          "name": "stdout",
          "text": [
            "b is greater than a\n"
          ]
        }
      ]
    },
    {
      "cell_type": "code",
      "source": [
        "a=10\n",
        "b=20\n",
        "if a>b:\n",
        "    print(\"a is greater than b\")\n",
        "else:\n",
        "    print(\"a is not greater than a\")"
      ],
      "metadata": {
        "colab": {
          "base_uri": "https://localhost:8080/"
        },
        "id": "qvyWTEJXdU8O",
        "outputId": "6a5900c9-4572-4b71-a774-9fc7dd2caf11"
      },
      "execution_count": null,
      "outputs": [
        {
          "output_type": "stream",
          "name": "stdout",
          "text": [
            "a is not greater than a\n"
          ]
        }
      ]
    },
    {
      "cell_type": "code",
      "source": [
        "a=10\n",
        "b=20\n",
        "c=30\n",
        "if (a>b)&(a>c):\n",
        "    print(\"a is the greatest\")\n",
        "elif (b>a)&(b>c):\n",
        "    print(\"b is the greatest\")\n",
        "else:\n",
        "    print(\"c is the greatest\")"
      ],
      "metadata": {
        "colab": {
          "base_uri": "https://localhost:8080/"
        },
        "id": "-fKojy1HdmAr",
        "outputId": "dc0c8434-5a07-4d0d-9cd1-ca29792c94d6"
      },
      "execution_count": null,
      "outputs": [
        {
          "output_type": "stream",
          "name": "stdout",
          "text": [
            "c is the greatest\n"
          ]
        }
      ]
    },
    {
      "cell_type": "code",
      "source": [
        "tuple=(1,2,3,4)\n",
        "if 5 in tuple:\n",
        "    print(\"5 is present in tuple\")\n",
        "else:\n",
        "    print(\"5 is not present in tuple\")\n"
      ],
      "metadata": {
        "colab": {
          "base_uri": "https://localhost:8080/"
        },
        "id": "gUJphbKFeIeR",
        "outputId": "55323c40-a11f-4b5c-b087-24e05e22b693"
      },
      "execution_count": null,
      "outputs": [
        {
          "output_type": "stream",
          "name": "stdout",
          "text": [
            "5 is not present in tuple\n"
          ]
        }
      ]
    },
    {
      "cell_type": "code",
      "source": [
        "#list\n",
        "l1=[1,2,3,4,5]\n",
        "if l1[1]==2:\n",
        "    l1[1]=l1[1]+100\n",
        "    l1[1]\n",
        "    print(l1)"
      ],
      "metadata": {
        "colab": {
          "base_uri": "https://localhost:8080/"
        },
        "id": "Hq-PUf8Ifz5H",
        "outputId": "a763574d-88dc-4439-8db4-cd45494187ff"
      },
      "execution_count": null,
      "outputs": [
        {
          "output_type": "stream",
          "name": "stdout",
          "text": [
            "[1, 102, 3, 4, 5]\n"
          ]
        }
      ]
    },
    {
      "cell_type": "code",
      "source": [
        "#dictionary\n",
        "d1={\"a\":1,\"b\":2,\"c\":3}\n",
        "if d1[\"a\"]==1:\n",
        "    d1[\"a\"]=d1[\"a\"]+100\n",
        "    print(d1)\n"
      ],
      "metadata": {
        "colab": {
          "base_uri": "https://localhost:8080/"
        },
        "id": "CHppCYXWhfPR",
        "outputId": "a149353a-bb87-41c2-c689-b98440ed522c"
      },
      "execution_count": null,
      "outputs": [
        {
          "output_type": "stream",
          "name": "stdout",
          "text": [
            "{'a': 101, 'b': 2, 'c': 3}\n"
          ]
        }
      ]
    },
    {
      "cell_type": "code",
      "source": [
        "#loop\n",
        "i=1\n",
        "while i<=10:\n",
        "    print(i)\n",
        "    i=i+1"
      ],
      "metadata": {
        "colab": {
          "base_uri": "https://localhost:8080/"
        },
        "id": "JjzLGRw-lKOa",
        "outputId": "16ed4a59-82df-4289-f23e-c56897dabdd1"
      },
      "execution_count": null,
      "outputs": [
        {
          "output_type": "stream",
          "name": "stdout",
          "text": [
            "1\n",
            "2\n",
            "3\n",
            "4\n",
            "5\n",
            "6\n",
            "7\n",
            "8\n",
            "9\n",
            "10\n"
          ]
        }
      ]
    },
    {
      "cell_type": "code",
      "source": [
        "i=1\n",
        "n=2\n",
        "while i<=10:\n",
        "    print(n,\"*\",i,\"=\", n*i)\n",
        "    i=i+1\n"
      ],
      "metadata": {
        "colab": {
          "base_uri": "https://localhost:8080/"
        },
        "id": "U3WANQPKli51",
        "outputId": "65b4e4c2-962d-44c9-e81b-ac1a7b1d3562"
      },
      "execution_count": null,
      "outputs": [
        {
          "output_type": "stream",
          "name": "stdout",
          "text": [
            "2 * 1 = 2\n",
            "2 * 2 = 4\n",
            "2 * 3 = 6\n",
            "2 * 4 = 8\n",
            "2 * 5 = 10\n",
            "2 * 6 = 12\n",
            "2 * 7 = 14\n",
            "2 * 8 = 16\n",
            "2 * 9 = 18\n",
            "2 * 10 = 20\n"
          ]
        }
      ]
    },
    {
      "cell_type": "code",
      "source": [
        "l1=[1,2,3,4,5]\n",
        "i=0\n",
        "while i<len(l1):\n",
        "    l1[i]=l1[i]+100\n",
        "    print(l1[i])\n",
        "    i=i+1"
      ],
      "metadata": {
        "colab": {
          "base_uri": "https://localhost:8080/"
        },
        "id": "RhDytDVGnbj5",
        "outputId": "36f4ae4b-ccd2-4c08-b672-a6fbeb4cc1bf"
      },
      "execution_count": null,
      "outputs": [
        {
          "output_type": "stream",
          "name": "stdout",
          "text": [
            "101\n",
            "102\n",
            "103\n",
            "104\n",
            "105\n"
          ]
        }
      ]
    },
    {
      "cell_type": "code",
      "source": [
        "l1=[\"apples\",\"banana\",\"orange\"]\n",
        "for i in l1:\n",
        " print(l1)"
      ],
      "metadata": {
        "colab": {
          "base_uri": "https://localhost:8080/"
        },
        "id": "3eci5UtLvNO_",
        "outputId": "c160ea6d-163e-4ef4-b0d5-d6715933042d"
      },
      "execution_count": null,
      "outputs": [
        {
          "output_type": "stream",
          "name": "stdout",
          "text": [
            "['apples', 'banana', 'orange']\n",
            "['apples', 'banana', 'orange']\n",
            "['apples', 'banana', 'orange']\n"
          ]
        }
      ]
    },
    {
      "cell_type": "code",
      "source": [
        "l1=[\"apples\",\"banana\",\"orange\"]\n",
        "for i in l1:\n",
        "    print(i)"
      ],
      "metadata": {
        "colab": {
          "base_uri": "https://localhost:8080/"
        },
        "id": "j4lrhFQHxN2b",
        "outputId": "9bcdb86e-b594-4f4d-eea0-e1ce931261f3"
      },
      "execution_count": null,
      "outputs": [
        {
          "output_type": "stream",
          "name": "stdout",
          "text": [
            "apples\n",
            "banana\n",
            "orange\n"
          ]
        }
      ]
    },
    {
      "cell_type": "code",
      "source": [
        "l1=[\"apples\",\"banana\",\"orange\"]\n",
        "for i in l1:\n",
        "    print(i)\n",
        "    break"
      ],
      "metadata": {
        "colab": {
          "base_uri": "https://localhost:8080/"
        },
        "id": "JK5tX4X4xdKf",
        "outputId": "64f4aabb-1a69-4bdb-f33a-c7f03dfc90d0"
      },
      "execution_count": null,
      "outputs": [
        {
          "output_type": "stream",
          "name": "stdout",
          "text": [
            "apples\n"
          ]
        }
      ]
    },
    {
      "cell_type": "code",
      "source": [
        "l1=[\"apples\",\"banana\",\"orange\"]\n",
        "for i in l1:\n",
        "    print(i)\n",
        "    continue"
      ],
      "metadata": {
        "colab": {
          "base_uri": "https://localhost:8080/"
        },
        "id": "-bsgPMlJxkuK",
        "outputId": "7bd92fc9-31a9-4734-f8f7-169b6bfd1abe"
      },
      "execution_count": null,
      "outputs": [
        {
          "output_type": "stream",
          "name": "stdout",
          "text": [
            "apples\n",
            "banana\n",
            "orange\n"
          ]
        }
      ]
    },
    {
      "cell_type": "code",
      "source": [
        "l1=[\"apples\",\"banana\",\"orange\"]\n",
        "for i in l1:\n",
        "    if i==\"banana\":\n",
        "        continue\n",
        "    print(i)"
      ],
      "metadata": {
        "colab": {
          "base_uri": "https://localhost:8080/"
        },
        "id": "6OVrYVARyBIk",
        "outputId": "b9e7cd1f-8ffb-4a54-b8a6-cdf97657fbdb"
      },
      "execution_count": null,
      "outputs": [
        {
          "output_type": "stream",
          "name": "stdout",
          "text": [
            "apples\n",
            "orange\n"
          ]
        }
      ]
    },
    {
      "cell_type": "code",
      "source": [
        "l1=[\"apples\",\"banana\",\"orange\"]\n",
        "for i in l1:\n",
        "    if i==\"banana\":\n",
        "        break\n",
        "    print(i)"
      ],
      "metadata": {
        "colab": {
          "base_uri": "https://localhost:8080/"
        },
        "id": "Lpp6koYOyJHv",
        "outputId": "a9fb1774-74fa-4b9c-d68c-ad830aac90b5"
      },
      "execution_count": null,
      "outputs": [
        {
          "output_type": "stream",
          "name": "stdout",
          "text": [
            "apples\n"
          ]
        }
      ]
    },
    {
      "cell_type": "code",
      "source": [
        "l1=[\"apples\",\"banana\",\"orange\"]\n",
        "for i in l1:\n",
        "    if i==\"banana\":\n",
        "        pass\n",
        "    print(i)"
      ],
      "metadata": {
        "colab": {
          "base_uri": "https://localhost:8080/"
        },
        "id": "hahuBw5wyOO2",
        "outputId": "80d6155a-5e7c-418a-88f4-03195237c922"
      },
      "execution_count": null,
      "outputs": [
        {
          "output_type": "stream",
          "name": "stdout",
          "text": [
            "apples\n",
            "banana\n",
            "orange\n"
          ]
        }
      ]
    },
    {
      "cell_type": "code",
      "source": [
        "num=int(input(\"enter a number\"))\n",
        "if num%2==0:\n",
        "    print(\"number is even\")\n",
        "else:\n",
        "    print(\"number is odd\")"
      ],
      "metadata": {
        "colab": {
          "base_uri": "https://localhost:8080/"
        },
        "id": "bfY2Unf9zqjv",
        "outputId": "8ec5ddfe-76d8-4c70-9544-3634b86908ad"
      },
      "execution_count": null,
      "outputs": [
        {
          "output_type": "stream",
          "name": "stdout",
          "text": [
            "enter a number9\n",
            "number is odd\n"
          ]
        }
      ]
    },
    {
      "cell_type": "code",
      "source": [
        "num=int(input(\"eneter a number\"))\n",
        "if num%2==0:\n",
        "    print(\"number is even\")\n",
        "    if num%3==0:\n",
        "        print(\"number is divisible by 3\")\n",
        "    else:\n",
        "        print(\"number is not divisible by 3\")\n",
        "\n",
        "else:\n",
        "    print(\"number is odd\")\n",
        "    if num%3==0:\n",
        "        print(\"number is divisible by 3\")\n",
        "    else:\n",
        "        print(\"number is not divisible by 3\")\n"
      ],
      "metadata": {
        "colab": {
          "base_uri": "https://localhost:8080/"
        },
        "id": "_Xcs9BHj0hJn",
        "outputId": "0a23c7de-37b0-4865-db31-92e6ec42c8eb"
      },
      "execution_count": null,
      "outputs": [
        {
          "output_type": "stream",
          "name": "stdout",
          "text": [
            "eneter a number5\n",
            "number is odd\n",
            "number is not divisible by 3\n"
          ]
        }
      ]
    },
    {
      "cell_type": "code",
      "source": [
        "#check whether it is a positive negative or zero\n",
        "num=int(input(\"enter a number\"))\n",
        "if num>0:\n",
        "    print(\"number is positive\")\n",
        "elif num<0:\n",
        "    print(\"number is negative\")\n",
        "else:\n",
        "    print(\"number is zero\")\n"
      ],
      "metadata": {
        "colab": {
          "base_uri": "https://localhost:8080/"
        },
        "id": "yeIVhw-s1vkv",
        "outputId": "1eb226a6-24d6-46be-e8f6-ea4e1d83ef92"
      },
      "execution_count": null,
      "outputs": [
        {
          "output_type": "stream",
          "name": "stdout",
          "text": [
            "enter a number8\n",
            "number is positive\n"
          ]
        }
      ]
    },
    {
      "cell_type": "code",
      "source": [
        "#factorial\n",
        "num=int(input(\"enter a number\"))\n",
        "fact=1\n",
        "if num<0:\n",
        "    print(\"factorial does not exist for negative numbers\")\n",
        "elif num==0:\n",
        "    print(\"factorial of 0 is 1\")\n",
        "else:\n",
        "   for i in range(1,num+1):\n",
        "       fact=fact*i\n",
        "       print(\"fact of\",num,\"is\",fact)"
      ],
      "metadata": {
        "colab": {
          "base_uri": "https://localhost:8080/"
        },
        "id": "cOIeE2Wg2_3U",
        "outputId": "d38f8a99-46b3-4a12-8b06-411f200d20ed"
      },
      "execution_count": null,
      "outputs": [
        {
          "output_type": "stream",
          "name": "stdout",
          "text": [
            "enter a number5\n",
            "fact of 5 is 1\n",
            "fact of 5 is 2\n",
            "fact of 5 is 6\n",
            "fact of 5 is 24\n",
            "fact of 5 is 120\n"
          ]
        }
      ]
    },
    {
      "cell_type": "code",
      "source": [
        "#reverse\n",
        "num=int(input(\"enter a number\"))\n",
        "reverse=0\n",
        "while num>0:\n",
        "    dig=num%10\n",
        "    reverse=reverse*10 + dig\n",
        "    num=num//10\n",
        "print(\"reverse of a number is\",reverse)"
      ],
      "metadata": {
        "id": "JTtNadJKH2nK",
        "colab": {
          "base_uri": "https://localhost:8080/"
        },
        "outputId": "b44edd90-fcd0-407a-ac89-71ffdad20b7f"
      },
      "execution_count": null,
      "outputs": [
        {
          "output_type": "stream",
          "name": "stdout",
          "text": [
            "enter a number123\n",
            "reverse of a number is 321\n"
          ]
        }
      ]
    },
    {
      "cell_type": "code",
      "source": [
        "num=int(input(\"enter a number\"))\n",
        "reverse=0\n",
        "temp=num\n",
        "while num>0:\n",
        "  digit=num%10\n",
        "  reverse=reverse*10+digit\n",
        "  num=num//10\n",
        "  print(\"reverse of a number is\",reverse)\n",
        "if (temp==reverse):\n",
        "  print(\"number is palindrome\")\n",
        "else:\n",
        "  print(\"number is not a panlindrome\")"
      ],
      "metadata": {
        "colab": {
          "base_uri": "https://localhost:8080/"
        },
        "id": "pOhEA3pUJ8qa",
        "outputId": "43d64a11-98f9-48ce-b6c2-d2b1a62e78e0"
      },
      "execution_count": null,
      "outputs": [
        {
          "output_type": "stream",
          "name": "stdout",
          "text": [
            "enter a number121\n",
            "reverse of a number is 1\n",
            "reverse of a number is 12\n",
            "reverse of a number is 121\n",
            "number is palindrome\n"
          ]
        }
      ]
    },
    {
      "cell_type": "code",
      "source": [
        "#fabinocci series\n",
        "num=int(input(\"enter a number\"))\n",
        "a=0\n",
        "b=1\n",
        "while num<0:\n",
        "      print(\"it is not a fabinocci series\")\n",
        "      break\n",
        "if num==0:\n",
        "    print(\"it is a fabinocci series\")\n",
        "    print(a)\n",
        "if num==1:\n",
        "    print(\"it is a fabinocci series\")\n",
        "    print(a)\n",
        "    print(b)\n",
        "else:\n",
        "    print(\"it is a fabinocci series\")\n",
        "    print(a)\n",
        "    print(b)\n",
        "for i in range(2,num):\n",
        "    c=a+b\n",
        "    a=b\n",
        "    b=c\n",
        "    print(c)\n",
        "\n"
      ],
      "metadata": {
        "colab": {
          "base_uri": "https://localhost:8080/"
        },
        "id": "81J0pqWiM3K-",
        "outputId": "39f5ec92-a7c1-4b34-bff8-a3c8f44d0d64"
      },
      "execution_count": null,
      "outputs": [
        {
          "output_type": "stream",
          "name": "stdout",
          "text": [
            "enter a number6\n",
            "it is a fabinocci series\n",
            "0\n",
            "1\n",
            "1\n",
            "2\n",
            "3\n",
            "5\n"
          ]
        }
      ]
    },
    {
      "cell_type": "code",
      "source": [
        "#function\n",
        "def function_name():\n",
        "    print(\"hello\")\n",
        "function_name()"
      ],
      "metadata": {
        "colab": {
          "base_uri": "https://localhost:8080/"
        },
        "id": "fFWdCSzFSZ1y",
        "outputId": "311c9e7b-3533-480e-d44b-46ab29e022ef"
      },
      "execution_count": null,
      "outputs": [
        {
          "output_type": "stream",
          "name": "stdout",
          "text": [
            "hello\n"
          ]
        }
      ]
    },
    {
      "cell_type": "code",
      "source": [
        "def even_odd(num):\n",
        "    if num%2==0:\n",
        "        print(\"number is even\")\n",
        "    else:\n",
        "        print(\"number is odd\")\n",
        "even_odd(10)"
      ],
      "metadata": {
        "colab": {
          "base_uri": "https://localhost:8080/"
        },
        "id": "_hgEkmopSpgN",
        "outputId": "778da257-1617-4333-a25c-b10b67902ab6"
      },
      "execution_count": null,
      "outputs": [
        {
          "output_type": "stream",
          "name": "stdout",
          "text": [
            "number is even\n"
          ]
        }
      ]
    },
    {
      "cell_type": "code",
      "source": [
        "#lamda functions\n",
        "g=lambda x:x*x*x\n",
        "g(7)"
      ],
      "metadata": {
        "colab": {
          "base_uri": "https://localhost:8080/"
        },
        "id": "RTzcuyOISzIF",
        "outputId": "667bb736-c720-4f0f-c0b2-8cec331e305c"
      },
      "execution_count": null,
      "outputs": [
        {
          "output_type": "execute_result",
          "data": {
            "text/plain": [
              "343"
            ]
          },
          "metadata": {},
          "execution_count": 30
        }
      ]
    },
    {
      "cell_type": "code",
      "source": [
        "#fliter function\n",
        "l1=[1,2,3,4,5,6,7,8,9]\n",
        "list(filter(lambda x:x%2==0,l1))"
      ],
      "metadata": {
        "colab": {
          "base_uri": "https://localhost:8080/"
        },
        "id": "0Dlc3v1KS7-g",
        "outputId": "808cb004-505a-4b60-98d5-1c96d7aded90"
      },
      "execution_count": null,
      "outputs": [
        {
          "output_type": "execute_result",
          "data": {
            "text/plain": [
              "[2, 4, 6, 8]"
            ]
          },
          "metadata": {},
          "execution_count": 31
        }
      ]
    },
    {
      "cell_type": "code",
      "source": [
        "#map function\n",
        "l1=[1,2,3,4,5,6,7,8,9]\n",
        "list(map(lambda x:x*2,l1))"
      ],
      "metadata": {
        "colab": {
          "base_uri": "https://localhost:8080/"
        },
        "id": "0JzytUP2THC8",
        "outputId": "adfa0586-f685-49c2-b8ba-8a7f5422563c"
      },
      "execution_count": null,
      "outputs": [
        {
          "output_type": "execute_result",
          "data": {
            "text/plain": [
              "[2, 4, 6, 8, 10, 12, 14, 16, 18]"
            ]
          },
          "metadata": {},
          "execution_count": 32
        }
      ]
    },
    {
      "cell_type": "code",
      "source": [
        "#reduce function\n",
        "from functools import reduce\n",
        "l1=[1,2,3,4,5,6,7,8,9]\n",
        "reduce(lambda x,y:x+y,l1)"
      ],
      "metadata": {
        "colab": {
          "base_uri": "https://localhost:8080/"
        },
        "id": "vj9ci2TCTWSa",
        "outputId": "3cadfdf9-2fc9-42e0-b79c-33050613d455"
      },
      "execution_count": null,
      "outputs": [
        {
          "output_type": "execute_result",
          "data": {
            "text/plain": [
              "45"
            ]
          },
          "metadata": {},
          "execution_count": 33
        }
      ]
    }
  ]
}